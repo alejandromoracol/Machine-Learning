{
 "cells": [
  {
   "cell_type": "code",
   "execution_count": 1,
   "metadata": {},
   "outputs": [],
   "source": [
    "import pandas as pd\n",
    "import numpy as np\n",
    "import seaborn as sns\n",
    "import matplotlib.pyplot as plt"
   ]
  },
  {
   "cell_type": "code",
   "execution_count": 2,
   "metadata": {},
   "outputs": [],
   "source": [
    "df=pd.read_csv('datos_train.csv')"
   ]
  },
  {
   "cell_type": "code",
   "execution_count": 3,
   "metadata": {},
   "outputs": [
    {
     "data": {
      "text/html": [
       "<div>\n",
       "<style scoped>\n",
       "    .dataframe tbody tr th:only-of-type {\n",
       "        vertical-align: middle;\n",
       "    }\n",
       "\n",
       "    .dataframe tbody tr th {\n",
       "        vertical-align: top;\n",
       "    }\n",
       "\n",
       "    .dataframe thead th {\n",
       "        text-align: right;\n",
       "    }\n",
       "</style>\n",
       "<table border=\"1\" class=\"dataframe\">\n",
       "  <thead>\n",
       "    <tr style=\"text-align: right;\">\n",
       "      <th></th>\n",
       "      <th>user_name</th>\n",
       "      <th>raw_timestamp_part_1</th>\n",
       "      <th>raw_timestamp_part_2</th>\n",
       "      <th>cvtd_timestamp</th>\n",
       "      <th>roll_belt</th>\n",
       "      <th>pitch_belt</th>\n",
       "      <th>yaw_belt</th>\n",
       "      <th>total_accel_belt</th>\n",
       "      <th>kurtosis_roll_belt</th>\n",
       "      <th>kurtosis_picth_belt</th>\n",
       "      <th>...</th>\n",
       "      <th>gyros_forearm_x</th>\n",
       "      <th>gyros_forearm_y</th>\n",
       "      <th>gyros_forearm_z</th>\n",
       "      <th>accel_forearm_x</th>\n",
       "      <th>accel_forearm_y</th>\n",
       "      <th>accel_forearm_z</th>\n",
       "      <th>magnet_forearm_x</th>\n",
       "      <th>magnet_forearm_y</th>\n",
       "      <th>magnet_forearm_z</th>\n",
       "      <th>classe</th>\n",
       "    </tr>\n",
       "  </thead>\n",
       "  <tbody>\n",
       "    <tr>\n",
       "      <th>0</th>\n",
       "      <td>carlitos</td>\n",
       "      <td>1323084231</td>\n",
       "      <td>788290</td>\n",
       "      <td>05/12/2011 11:23</td>\n",
       "      <td>1.41</td>\n",
       "      <td>8.07</td>\n",
       "      <td>-94.4</td>\n",
       "      <td>3</td>\n",
       "      <td>NaN</td>\n",
       "      <td>NaN</td>\n",
       "      <td>...</td>\n",
       "      <td>0.03</td>\n",
       "      <td>0.00</td>\n",
       "      <td>-0.02</td>\n",
       "      <td>192</td>\n",
       "      <td>203</td>\n",
       "      <td>-215</td>\n",
       "      <td>-17</td>\n",
       "      <td>654.0</td>\n",
       "      <td>476.0</td>\n",
       "      <td>A</td>\n",
       "    </tr>\n",
       "    <tr>\n",
       "      <th>1</th>\n",
       "      <td>carlitos</td>\n",
       "      <td>1323084231</td>\n",
       "      <td>808298</td>\n",
       "      <td>05/12/2011 11:23</td>\n",
       "      <td>1.41</td>\n",
       "      <td>8.07</td>\n",
       "      <td>-94.4</td>\n",
       "      <td>3</td>\n",
       "      <td>NaN</td>\n",
       "      <td>NaN</td>\n",
       "      <td>...</td>\n",
       "      <td>0.02</td>\n",
       "      <td>0.00</td>\n",
       "      <td>-0.02</td>\n",
       "      <td>192</td>\n",
       "      <td>203</td>\n",
       "      <td>-216</td>\n",
       "      <td>-18</td>\n",
       "      <td>661.0</td>\n",
       "      <td>473.0</td>\n",
       "      <td>A</td>\n",
       "    </tr>\n",
       "    <tr>\n",
       "      <th>2</th>\n",
       "      <td>carlitos</td>\n",
       "      <td>1323084231</td>\n",
       "      <td>820366</td>\n",
       "      <td>05/12/2011 11:23</td>\n",
       "      <td>1.42</td>\n",
       "      <td>8.07</td>\n",
       "      <td>-94.4</td>\n",
       "      <td>3</td>\n",
       "      <td>NaN</td>\n",
       "      <td>NaN</td>\n",
       "      <td>...</td>\n",
       "      <td>0.03</td>\n",
       "      <td>-0.02</td>\n",
       "      <td>0.00</td>\n",
       "      <td>196</td>\n",
       "      <td>204</td>\n",
       "      <td>-213</td>\n",
       "      <td>-18</td>\n",
       "      <td>658.0</td>\n",
       "      <td>469.0</td>\n",
       "      <td>A</td>\n",
       "    </tr>\n",
       "    <tr>\n",
       "      <th>3</th>\n",
       "      <td>carlitos</td>\n",
       "      <td>1323084232</td>\n",
       "      <td>120339</td>\n",
       "      <td>05/12/2011 11:23</td>\n",
       "      <td>1.48</td>\n",
       "      <td>8.05</td>\n",
       "      <td>-94.4</td>\n",
       "      <td>3</td>\n",
       "      <td>NaN</td>\n",
       "      <td>NaN</td>\n",
       "      <td>...</td>\n",
       "      <td>0.02</td>\n",
       "      <td>-0.02</td>\n",
       "      <td>0.00</td>\n",
       "      <td>189</td>\n",
       "      <td>206</td>\n",
       "      <td>-214</td>\n",
       "      <td>-16</td>\n",
       "      <td>658.0</td>\n",
       "      <td>469.0</td>\n",
       "      <td>A</td>\n",
       "    </tr>\n",
       "    <tr>\n",
       "      <th>4</th>\n",
       "      <td>carlitos</td>\n",
       "      <td>1323084232</td>\n",
       "      <td>196328</td>\n",
       "      <td>05/12/2011 11:23</td>\n",
       "      <td>1.48</td>\n",
       "      <td>8.07</td>\n",
       "      <td>-94.4</td>\n",
       "      <td>3</td>\n",
       "      <td>NaN</td>\n",
       "      <td>NaN</td>\n",
       "      <td>...</td>\n",
       "      <td>0.02</td>\n",
       "      <td>0.00</td>\n",
       "      <td>-0.02</td>\n",
       "      <td>189</td>\n",
       "      <td>206</td>\n",
       "      <td>-214</td>\n",
       "      <td>-17</td>\n",
       "      <td>655.0</td>\n",
       "      <td>473.0</td>\n",
       "      <td>A</td>\n",
       "    </tr>\n",
       "  </tbody>\n",
       "</table>\n",
       "<p>5 rows × 157 columns</p>\n",
       "</div>"
      ],
      "text/plain": [
       "  user_name  raw_timestamp_part_1  raw_timestamp_part_2    cvtd_timestamp  \\\n",
       "0  carlitos            1323084231                788290  05/12/2011 11:23   \n",
       "1  carlitos            1323084231                808298  05/12/2011 11:23   \n",
       "2  carlitos            1323084231                820366  05/12/2011 11:23   \n",
       "3  carlitos            1323084232                120339  05/12/2011 11:23   \n",
       "4  carlitos            1323084232                196328  05/12/2011 11:23   \n",
       "\n",
       "   roll_belt  pitch_belt  yaw_belt  total_accel_belt  kurtosis_roll_belt  \\\n",
       "0       1.41        8.07     -94.4                 3                 NaN   \n",
       "1       1.41        8.07     -94.4                 3                 NaN   \n",
       "2       1.42        8.07     -94.4                 3                 NaN   \n",
       "3       1.48        8.05     -94.4                 3                 NaN   \n",
       "4       1.48        8.07     -94.4                 3                 NaN   \n",
       "\n",
       "   kurtosis_picth_belt  ...  gyros_forearm_x  gyros_forearm_y  \\\n",
       "0                  NaN  ...             0.03             0.00   \n",
       "1                  NaN  ...             0.02             0.00   \n",
       "2                  NaN  ...             0.03            -0.02   \n",
       "3                  NaN  ...             0.02            -0.02   \n",
       "4                  NaN  ...             0.02             0.00   \n",
       "\n",
       "   gyros_forearm_z  accel_forearm_x  accel_forearm_y  accel_forearm_z  \\\n",
       "0            -0.02              192              203             -215   \n",
       "1            -0.02              192              203             -216   \n",
       "2             0.00              196              204             -213   \n",
       "3             0.00              189              206             -214   \n",
       "4            -0.02              189              206             -214   \n",
       "\n",
       "   magnet_forearm_x  magnet_forearm_y  magnet_forearm_z  classe  \n",
       "0               -17             654.0             476.0       A  \n",
       "1               -18             661.0             473.0       A  \n",
       "2               -18             658.0             469.0       A  \n",
       "3               -16             658.0             469.0       A  \n",
       "4               -17             655.0             473.0       A  \n",
       "\n",
       "[5 rows x 157 columns]"
      ]
     },
     "execution_count": 3,
     "metadata": {},
     "output_type": "execute_result"
    }
   ],
   "source": [
    "df.head()"
   ]
  },
  {
   "cell_type": "code",
   "execution_count": 4,
   "metadata": {},
   "outputs": [
    {
     "data": {
      "text/plain": [
       "user_name                object\n",
       "raw_timestamp_part_1      int64\n",
       "raw_timestamp_part_2      int64\n",
       "cvtd_timestamp           object\n",
       "roll_belt               float64\n",
       "                         ...   \n",
       "accel_forearm_z           int64\n",
       "magnet_forearm_x          int64\n",
       "magnet_forearm_y        float64\n",
       "magnet_forearm_z        float64\n",
       "classe                   object\n",
       "Length: 157, dtype: object"
      ]
     },
     "execution_count": 4,
     "metadata": {},
     "output_type": "execute_result"
    }
   ],
   "source": [
    "df.dtypes"
   ]
  },
  {
   "cell_type": "code",
   "execution_count": 5,
   "metadata": {},
   "outputs": [
    {
     "data": {
      "text/html": [
       "<div>\n",
       "<style scoped>\n",
       "    .dataframe tbody tr th:only-of-type {\n",
       "        vertical-align: middle;\n",
       "    }\n",
       "\n",
       "    .dataframe tbody tr th {\n",
       "        vertical-align: top;\n",
       "    }\n",
       "\n",
       "    .dataframe thead th {\n",
       "        text-align: right;\n",
       "    }\n",
       "</style>\n",
       "<table border=\"1\" class=\"dataframe\">\n",
       "  <thead>\n",
       "    <tr style=\"text-align: right;\">\n",
       "      <th></th>\n",
       "      <th>raw_timestamp_part_1</th>\n",
       "      <th>raw_timestamp_part_2</th>\n",
       "      <th>roll_belt</th>\n",
       "      <th>pitch_belt</th>\n",
       "      <th>yaw_belt</th>\n",
       "      <th>total_accel_belt</th>\n",
       "      <th>kurtosis_roll_belt</th>\n",
       "      <th>kurtosis_picth_belt</th>\n",
       "      <th>kurtosis_yaw_belt</th>\n",
       "      <th>skewness_roll_belt</th>\n",
       "      <th>...</th>\n",
       "      <th>var_yaw_forearm</th>\n",
       "      <th>gyros_forearm_x</th>\n",
       "      <th>gyros_forearm_y</th>\n",
       "      <th>gyros_forearm_z</th>\n",
       "      <th>accel_forearm_x</th>\n",
       "      <th>accel_forearm_y</th>\n",
       "      <th>accel_forearm_z</th>\n",
       "      <th>magnet_forearm_x</th>\n",
       "      <th>magnet_forearm_y</th>\n",
       "      <th>magnet_forearm_z</th>\n",
       "    </tr>\n",
       "  </thead>\n",
       "  <tbody>\n",
       "    <tr>\n",
       "      <th>count</th>\n",
       "      <td>1.962200e+04</td>\n",
       "      <td>19622.000000</td>\n",
       "      <td>19622.000000</td>\n",
       "      <td>19622.000000</td>\n",
       "      <td>19622.000000</td>\n",
       "      <td>19622.000000</td>\n",
       "      <td>396.000000</td>\n",
       "      <td>374.000000</td>\n",
       "      <td>0.0</td>\n",
       "      <td>397.000000</td>\n",
       "      <td>...</td>\n",
       "      <td>406.000000</td>\n",
       "      <td>19622.000000</td>\n",
       "      <td>19622.000000</td>\n",
       "      <td>19622.000000</td>\n",
       "      <td>19622.000000</td>\n",
       "      <td>19622.000000</td>\n",
       "      <td>19622.000000</td>\n",
       "      <td>19622.000000</td>\n",
       "      <td>19622.000000</td>\n",
       "      <td>19622.000000</td>\n",
       "    </tr>\n",
       "    <tr>\n",
       "      <th>mean</th>\n",
       "      <td>1.322827e+09</td>\n",
       "      <td>500656.144277</td>\n",
       "      <td>64.407197</td>\n",
       "      <td>0.305283</td>\n",
       "      <td>-11.205061</td>\n",
       "      <td>11.312608</td>\n",
       "      <td>-0.220248</td>\n",
       "      <td>4.334199</td>\n",
       "      <td>NaN</td>\n",
       "      <td>-0.026096</td>\n",
       "      <td>...</td>\n",
       "      <td>4639.849068</td>\n",
       "      <td>0.157951</td>\n",
       "      <td>0.075175</td>\n",
       "      <td>0.151245</td>\n",
       "      <td>-61.651819</td>\n",
       "      <td>163.655896</td>\n",
       "      <td>-55.291917</td>\n",
       "      <td>-312.575884</td>\n",
       "      <td>380.116445</td>\n",
       "      <td>393.613745</td>\n",
       "    </tr>\n",
       "    <tr>\n",
       "      <th>std</th>\n",
       "      <td>2.049277e+05</td>\n",
       "      <td>288222.879958</td>\n",
       "      <td>62.750255</td>\n",
       "      <td>22.351242</td>\n",
       "      <td>95.193926</td>\n",
       "      <td>7.742309</td>\n",
       "      <td>2.924547</td>\n",
       "      <td>11.582812</td>\n",
       "      <td>NaN</td>\n",
       "      <td>0.916383</td>\n",
       "      <td>...</td>\n",
       "      <td>7284.972361</td>\n",
       "      <td>0.648618</td>\n",
       "      <td>3.100725</td>\n",
       "      <td>1.754483</td>\n",
       "      <td>180.593687</td>\n",
       "      <td>200.130082</td>\n",
       "      <td>138.396947</td>\n",
       "      <td>346.958482</td>\n",
       "      <td>509.373742</td>\n",
       "      <td>369.268747</td>\n",
       "    </tr>\n",
       "    <tr>\n",
       "      <th>min</th>\n",
       "      <td>1.322490e+09</td>\n",
       "      <td>294.000000</td>\n",
       "      <td>-28.900000</td>\n",
       "      <td>-55.800000</td>\n",
       "      <td>-180.000000</td>\n",
       "      <td>0.000000</td>\n",
       "      <td>-2.121212</td>\n",
       "      <td>-2.190476</td>\n",
       "      <td>NaN</td>\n",
       "      <td>-5.744563</td>\n",
       "      <td>...</td>\n",
       "      <td>0.000000</td>\n",
       "      <td>-22.000000</td>\n",
       "      <td>-7.020000</td>\n",
       "      <td>-8.090000</td>\n",
       "      <td>-498.000000</td>\n",
       "      <td>-632.000000</td>\n",
       "      <td>-446.000000</td>\n",
       "      <td>-1280.000000</td>\n",
       "      <td>-896.000000</td>\n",
       "      <td>-973.000000</td>\n",
       "    </tr>\n",
       "    <tr>\n",
       "      <th>25%</th>\n",
       "      <td>1.322673e+09</td>\n",
       "      <td>252912.250000</td>\n",
       "      <td>1.100000</td>\n",
       "      <td>1.760000</td>\n",
       "      <td>-88.300000</td>\n",
       "      <td>3.000000</td>\n",
       "      <td>-1.329350</td>\n",
       "      <td>-1.106648</td>\n",
       "      <td>NaN</td>\n",
       "      <td>-0.443717</td>\n",
       "      <td>...</td>\n",
       "      <td>0.274550</td>\n",
       "      <td>-0.220000</td>\n",
       "      <td>-1.460000</td>\n",
       "      <td>-0.180000</td>\n",
       "      <td>-178.000000</td>\n",
       "      <td>57.000000</td>\n",
       "      <td>-182.000000</td>\n",
       "      <td>-616.000000</td>\n",
       "      <td>2.000000</td>\n",
       "      <td>191.000000</td>\n",
       "    </tr>\n",
       "    <tr>\n",
       "      <th>50%</th>\n",
       "      <td>1.322833e+09</td>\n",
       "      <td>496380.000000</td>\n",
       "      <td>113.000000</td>\n",
       "      <td>5.280000</td>\n",
       "      <td>-13.000000</td>\n",
       "      <td>17.000000</td>\n",
       "      <td>-0.899278</td>\n",
       "      <td>-0.150950</td>\n",
       "      <td>NaN</td>\n",
       "      <td>0.000000</td>\n",
       "      <td>...</td>\n",
       "      <td>612.214225</td>\n",
       "      <td>0.050000</td>\n",
       "      <td>0.030000</td>\n",
       "      <td>0.080000</td>\n",
       "      <td>-57.000000</td>\n",
       "      <td>201.000000</td>\n",
       "      <td>-39.000000</td>\n",
       "      <td>-378.000000</td>\n",
       "      <td>591.000000</td>\n",
       "      <td>511.000000</td>\n",
       "    </tr>\n",
       "    <tr>\n",
       "      <th>75%</th>\n",
       "      <td>1.323084e+09</td>\n",
       "      <td>751890.750000</td>\n",
       "      <td>123.000000</td>\n",
       "      <td>14.900000</td>\n",
       "      <td>12.900000</td>\n",
       "      <td>18.000000</td>\n",
       "      <td>-0.219149</td>\n",
       "      <td>3.177705</td>\n",
       "      <td>NaN</td>\n",
       "      <td>0.416939</td>\n",
       "      <td>...</td>\n",
       "      <td>7368.414252</td>\n",
       "      <td>0.560000</td>\n",
       "      <td>1.620000</td>\n",
       "      <td>0.490000</td>\n",
       "      <td>76.000000</td>\n",
       "      <td>312.000000</td>\n",
       "      <td>26.000000</td>\n",
       "      <td>-73.000000</td>\n",
       "      <td>737.000000</td>\n",
       "      <td>653.000000</td>\n",
       "    </tr>\n",
       "    <tr>\n",
       "      <th>max</th>\n",
       "      <td>1.323095e+09</td>\n",
       "      <td>998801.000000</td>\n",
       "      <td>162.000000</td>\n",
       "      <td>60.300000</td>\n",
       "      <td>179.000000</td>\n",
       "      <td>29.000000</td>\n",
       "      <td>33.000000</td>\n",
       "      <td>58.000000</td>\n",
       "      <td>NaN</td>\n",
       "      <td>3.595369</td>\n",
       "      <td>...</td>\n",
       "      <td>39009.333330</td>\n",
       "      <td>3.970000</td>\n",
       "      <td>311.000000</td>\n",
       "      <td>231.000000</td>\n",
       "      <td>477.000000</td>\n",
       "      <td>923.000000</td>\n",
       "      <td>291.000000</td>\n",
       "      <td>672.000000</td>\n",
       "      <td>1480.000000</td>\n",
       "      <td>1090.000000</td>\n",
       "    </tr>\n",
       "  </tbody>\n",
       "</table>\n",
       "<p>8 rows × 154 columns</p>\n",
       "</div>"
      ],
      "text/plain": [
       "       raw_timestamp_part_1  raw_timestamp_part_2     roll_belt    pitch_belt  \\\n",
       "count          1.962200e+04          19622.000000  19622.000000  19622.000000   \n",
       "mean           1.322827e+09         500656.144277     64.407197      0.305283   \n",
       "std            2.049277e+05         288222.879958     62.750255     22.351242   \n",
       "min            1.322490e+09            294.000000    -28.900000    -55.800000   \n",
       "25%            1.322673e+09         252912.250000      1.100000      1.760000   \n",
       "50%            1.322833e+09         496380.000000    113.000000      5.280000   \n",
       "75%            1.323084e+09         751890.750000    123.000000     14.900000   \n",
       "max            1.323095e+09         998801.000000    162.000000     60.300000   \n",
       "\n",
       "           yaw_belt  total_accel_belt  kurtosis_roll_belt  \\\n",
       "count  19622.000000      19622.000000          396.000000   \n",
       "mean     -11.205061         11.312608           -0.220248   \n",
       "std       95.193926          7.742309            2.924547   \n",
       "min     -180.000000          0.000000           -2.121212   \n",
       "25%      -88.300000          3.000000           -1.329350   \n",
       "50%      -13.000000         17.000000           -0.899278   \n",
       "75%       12.900000         18.000000           -0.219149   \n",
       "max      179.000000         29.000000           33.000000   \n",
       "\n",
       "       kurtosis_picth_belt  kurtosis_yaw_belt  skewness_roll_belt  ...  \\\n",
       "count           374.000000                0.0          397.000000  ...   \n",
       "mean              4.334199                NaN           -0.026096  ...   \n",
       "std              11.582812                NaN            0.916383  ...   \n",
       "min              -2.190476                NaN           -5.744563  ...   \n",
       "25%              -1.106648                NaN           -0.443717  ...   \n",
       "50%              -0.150950                NaN            0.000000  ...   \n",
       "75%               3.177705                NaN            0.416939  ...   \n",
       "max              58.000000                NaN            3.595369  ...   \n",
       "\n",
       "       var_yaw_forearm  gyros_forearm_x  gyros_forearm_y  gyros_forearm_z  \\\n",
       "count       406.000000     19622.000000     19622.000000     19622.000000   \n",
       "mean       4639.849068         0.157951         0.075175         0.151245   \n",
       "std        7284.972361         0.648618         3.100725         1.754483   \n",
       "min           0.000000       -22.000000        -7.020000        -8.090000   \n",
       "25%           0.274550        -0.220000        -1.460000        -0.180000   \n",
       "50%         612.214225         0.050000         0.030000         0.080000   \n",
       "75%        7368.414252         0.560000         1.620000         0.490000   \n",
       "max       39009.333330         3.970000       311.000000       231.000000   \n",
       "\n",
       "       accel_forearm_x  accel_forearm_y  accel_forearm_z  magnet_forearm_x  \\\n",
       "count     19622.000000     19622.000000     19622.000000      19622.000000   \n",
       "mean        -61.651819       163.655896       -55.291917       -312.575884   \n",
       "std         180.593687       200.130082       138.396947        346.958482   \n",
       "min        -498.000000      -632.000000      -446.000000      -1280.000000   \n",
       "25%        -178.000000        57.000000      -182.000000       -616.000000   \n",
       "50%         -57.000000       201.000000       -39.000000       -378.000000   \n",
       "75%          76.000000       312.000000        26.000000        -73.000000   \n",
       "max         477.000000       923.000000       291.000000        672.000000   \n",
       "\n",
       "       magnet_forearm_y  magnet_forearm_z  \n",
       "count      19622.000000      19622.000000  \n",
       "mean         380.116445        393.613745  \n",
       "std          509.373742        369.268747  \n",
       "min         -896.000000       -973.000000  \n",
       "25%            2.000000        191.000000  \n",
       "50%          591.000000        511.000000  \n",
       "75%          737.000000        653.000000  \n",
       "max         1480.000000       1090.000000  \n",
       "\n",
       "[8 rows x 154 columns]"
      ]
     },
     "execution_count": 5,
     "metadata": {},
     "output_type": "execute_result"
    }
   ],
   "source": [
    "df.describe()"
   ]
  },
  {
   "cell_type": "code",
   "execution_count": 6,
   "metadata": {},
   "outputs": [
    {
     "name": "stdout",
     "output_type": "stream",
     "text": [
      "<class 'pandas.core.frame.DataFrame'>\n",
      "RangeIndex: 19622 entries, 0 to 19621\n",
      "Columns: 157 entries, user_name to classe\n",
      "dtypes: float64(127), int64(27), object(3)\n",
      "memory usage: 23.5+ MB\n"
     ]
    }
   ],
   "source": [
    "df.info()"
   ]
  },
  {
   "cell_type": "code",
   "execution_count": 7,
   "metadata": {},
   "outputs": [],
   "source": [
    "df2=df.dropna(axis=1)"
   ]
  },
  {
   "cell_type": "code",
   "execution_count": 8,
   "metadata": {},
   "outputs": [
    {
     "name": "stdout",
     "output_type": "stream",
     "text": [
      "<class 'pandas.core.frame.DataFrame'>\n",
      "RangeIndex: 19622 entries, 0 to 19621\n",
      "Data columns (total 57 columns):\n",
      "user_name               19622 non-null object\n",
      "raw_timestamp_part_1    19622 non-null int64\n",
      "raw_timestamp_part_2    19622 non-null int64\n",
      "cvtd_timestamp          19622 non-null object\n",
      "roll_belt               19622 non-null float64\n",
      "pitch_belt              19622 non-null float64\n",
      "yaw_belt                19622 non-null float64\n",
      "total_accel_belt        19622 non-null int64\n",
      "gyros_belt_x            19622 non-null float64\n",
      "gyros_belt_y            19622 non-null float64\n",
      "gyros_belt_z            19622 non-null float64\n",
      "accel_belt_x            19622 non-null int64\n",
      "accel_belt_y            19622 non-null int64\n",
      "accel_belt_z            19622 non-null int64\n",
      "magnet_belt_x           19622 non-null int64\n",
      "magnet_belt_y           19622 non-null int64\n",
      "magnet_belt_z           19622 non-null int64\n",
      "roll_arm                19622 non-null float64\n",
      "pitch_arm               19622 non-null float64\n",
      "yaw_arm                 19622 non-null float64\n",
      "total_accel_arm         19622 non-null int64\n",
      "gyros_arm_x             19622 non-null float64\n",
      "gyros_arm_y             19622 non-null float64\n",
      "gyros_arm_z             19622 non-null float64\n",
      "accel_arm_x             19622 non-null int64\n",
      "accel_arm_y             19622 non-null int64\n",
      "accel_arm_z             19622 non-null int64\n",
      "magnet_arm_x            19622 non-null int64\n",
      "magnet_arm_y            19622 non-null int64\n",
      "magnet_arm_z            19622 non-null int64\n",
      "roll_dumbbell           19622 non-null float64\n",
      "pitch_dumbbell          19622 non-null float64\n",
      "yaw_dumbbell            19622 non-null float64\n",
      "total_accel_dumbbell    19622 non-null int64\n",
      "gyros_dumbbell_x        19622 non-null float64\n",
      "gyros_dumbbell_y        19622 non-null float64\n",
      "gyros_dumbbell_z        19622 non-null float64\n",
      "accel_dumbbell_x        19622 non-null int64\n",
      "accel_dumbbell_y        19622 non-null int64\n",
      "accel_dumbbell_z        19622 non-null int64\n",
      "magnet_dumbbell_x       19622 non-null int64\n",
      "magnet_dumbbell_y       19622 non-null int64\n",
      "magnet_dumbbell_z       19622 non-null float64\n",
      "roll_forearm            19622 non-null float64\n",
      "pitch_forearm           19622 non-null float64\n",
      "yaw_forearm             19622 non-null float64\n",
      "total_accel_forearm     19622 non-null int64\n",
      "gyros_forearm_x         19622 non-null float64\n",
      "gyros_forearm_y         19622 non-null float64\n",
      "gyros_forearm_z         19622 non-null float64\n",
      "accel_forearm_x         19622 non-null int64\n",
      "accel_forearm_y         19622 non-null int64\n",
      "accel_forearm_z         19622 non-null int64\n",
      "magnet_forearm_x        19622 non-null int64\n",
      "magnet_forearm_y        19622 non-null float64\n",
      "magnet_forearm_z        19622 non-null float64\n",
      "classe                  19622 non-null object\n",
      "dtypes: float64(27), int64(27), object(3)\n",
      "memory usage: 8.5+ MB\n"
     ]
    }
   ],
   "source": [
    "df2.info()"
   ]
  },
  {
   "cell_type": "code",
   "execution_count": 9,
   "metadata": {},
   "outputs": [
    {
     "data": {
      "text/html": [
       "<div>\n",
       "<style scoped>\n",
       "    .dataframe tbody tr th:only-of-type {\n",
       "        vertical-align: middle;\n",
       "    }\n",
       "\n",
       "    .dataframe tbody tr th {\n",
       "        vertical-align: top;\n",
       "    }\n",
       "\n",
       "    .dataframe thead th {\n",
       "        text-align: right;\n",
       "    }\n",
       "</style>\n",
       "<table border=\"1\" class=\"dataframe\">\n",
       "  <thead>\n",
       "    <tr style=\"text-align: right;\">\n",
       "      <th></th>\n",
       "      <th>raw_timestamp_part_1</th>\n",
       "      <th>raw_timestamp_part_2</th>\n",
       "      <th>roll_belt</th>\n",
       "      <th>pitch_belt</th>\n",
       "      <th>yaw_belt</th>\n",
       "      <th>total_accel_belt</th>\n",
       "      <th>gyros_belt_x</th>\n",
       "      <th>gyros_belt_y</th>\n",
       "      <th>gyros_belt_z</th>\n",
       "      <th>accel_belt_x</th>\n",
       "      <th>...</th>\n",
       "      <th>total_accel_forearm</th>\n",
       "      <th>gyros_forearm_x</th>\n",
       "      <th>gyros_forearm_y</th>\n",
       "      <th>gyros_forearm_z</th>\n",
       "      <th>accel_forearm_x</th>\n",
       "      <th>accel_forearm_y</th>\n",
       "      <th>accel_forearm_z</th>\n",
       "      <th>magnet_forearm_x</th>\n",
       "      <th>magnet_forearm_y</th>\n",
       "      <th>magnet_forearm_z</th>\n",
       "    </tr>\n",
       "  </thead>\n",
       "  <tbody>\n",
       "    <tr>\n",
       "      <th>count</th>\n",
       "      <td>1.962200e+04</td>\n",
       "      <td>19622.000000</td>\n",
       "      <td>19622.000000</td>\n",
       "      <td>19622.000000</td>\n",
       "      <td>19622.000000</td>\n",
       "      <td>19622.000000</td>\n",
       "      <td>19622.000000</td>\n",
       "      <td>19622.000000</td>\n",
       "      <td>19622.000000</td>\n",
       "      <td>19622.000000</td>\n",
       "      <td>...</td>\n",
       "      <td>19622.000000</td>\n",
       "      <td>19622.000000</td>\n",
       "      <td>19622.000000</td>\n",
       "      <td>19622.000000</td>\n",
       "      <td>19622.000000</td>\n",
       "      <td>19622.000000</td>\n",
       "      <td>19622.000000</td>\n",
       "      <td>19622.000000</td>\n",
       "      <td>19622.000000</td>\n",
       "      <td>19622.000000</td>\n",
       "    </tr>\n",
       "    <tr>\n",
       "      <th>mean</th>\n",
       "      <td>1.322827e+09</td>\n",
       "      <td>500656.144277</td>\n",
       "      <td>64.407197</td>\n",
       "      <td>0.305283</td>\n",
       "      <td>-11.205061</td>\n",
       "      <td>11.312608</td>\n",
       "      <td>-0.005592</td>\n",
       "      <td>0.039588</td>\n",
       "      <td>-0.130538</td>\n",
       "      <td>-5.594690</td>\n",
       "      <td>...</td>\n",
       "      <td>34.715320</td>\n",
       "      <td>0.157951</td>\n",
       "      <td>0.075175</td>\n",
       "      <td>0.151245</td>\n",
       "      <td>-61.651819</td>\n",
       "      <td>163.655896</td>\n",
       "      <td>-55.291917</td>\n",
       "      <td>-312.575884</td>\n",
       "      <td>380.116445</td>\n",
       "      <td>393.613745</td>\n",
       "    </tr>\n",
       "    <tr>\n",
       "      <th>std</th>\n",
       "      <td>2.049277e+05</td>\n",
       "      <td>288222.879958</td>\n",
       "      <td>62.750255</td>\n",
       "      <td>22.351242</td>\n",
       "      <td>95.193926</td>\n",
       "      <td>7.742309</td>\n",
       "      <td>0.207329</td>\n",
       "      <td>0.078236</td>\n",
       "      <td>0.241321</td>\n",
       "      <td>29.644785</td>\n",
       "      <td>...</td>\n",
       "      <td>10.055956</td>\n",
       "      <td>0.648618</td>\n",
       "      <td>3.100725</td>\n",
       "      <td>1.754483</td>\n",
       "      <td>180.593687</td>\n",
       "      <td>200.130082</td>\n",
       "      <td>138.396947</td>\n",
       "      <td>346.958482</td>\n",
       "      <td>509.373742</td>\n",
       "      <td>369.268747</td>\n",
       "    </tr>\n",
       "    <tr>\n",
       "      <th>min</th>\n",
       "      <td>1.322490e+09</td>\n",
       "      <td>294.000000</td>\n",
       "      <td>-28.900000</td>\n",
       "      <td>-55.800000</td>\n",
       "      <td>-180.000000</td>\n",
       "      <td>0.000000</td>\n",
       "      <td>-1.040000</td>\n",
       "      <td>-0.640000</td>\n",
       "      <td>-1.460000</td>\n",
       "      <td>-120.000000</td>\n",
       "      <td>...</td>\n",
       "      <td>0.000000</td>\n",
       "      <td>-22.000000</td>\n",
       "      <td>-7.020000</td>\n",
       "      <td>-8.090000</td>\n",
       "      <td>-498.000000</td>\n",
       "      <td>-632.000000</td>\n",
       "      <td>-446.000000</td>\n",
       "      <td>-1280.000000</td>\n",
       "      <td>-896.000000</td>\n",
       "      <td>-973.000000</td>\n",
       "    </tr>\n",
       "    <tr>\n",
       "      <th>25%</th>\n",
       "      <td>1.322673e+09</td>\n",
       "      <td>252912.250000</td>\n",
       "      <td>1.100000</td>\n",
       "      <td>1.760000</td>\n",
       "      <td>-88.300000</td>\n",
       "      <td>3.000000</td>\n",
       "      <td>-0.030000</td>\n",
       "      <td>0.000000</td>\n",
       "      <td>-0.200000</td>\n",
       "      <td>-21.000000</td>\n",
       "      <td>...</td>\n",
       "      <td>29.000000</td>\n",
       "      <td>-0.220000</td>\n",
       "      <td>-1.460000</td>\n",
       "      <td>-0.180000</td>\n",
       "      <td>-178.000000</td>\n",
       "      <td>57.000000</td>\n",
       "      <td>-182.000000</td>\n",
       "      <td>-616.000000</td>\n",
       "      <td>2.000000</td>\n",
       "      <td>191.000000</td>\n",
       "    </tr>\n",
       "    <tr>\n",
       "      <th>50%</th>\n",
       "      <td>1.322833e+09</td>\n",
       "      <td>496380.000000</td>\n",
       "      <td>113.000000</td>\n",
       "      <td>5.280000</td>\n",
       "      <td>-13.000000</td>\n",
       "      <td>17.000000</td>\n",
       "      <td>0.030000</td>\n",
       "      <td>0.020000</td>\n",
       "      <td>-0.100000</td>\n",
       "      <td>-15.000000</td>\n",
       "      <td>...</td>\n",
       "      <td>36.000000</td>\n",
       "      <td>0.050000</td>\n",
       "      <td>0.030000</td>\n",
       "      <td>0.080000</td>\n",
       "      <td>-57.000000</td>\n",
       "      <td>201.000000</td>\n",
       "      <td>-39.000000</td>\n",
       "      <td>-378.000000</td>\n",
       "      <td>591.000000</td>\n",
       "      <td>511.000000</td>\n",
       "    </tr>\n",
       "    <tr>\n",
       "      <th>75%</th>\n",
       "      <td>1.323084e+09</td>\n",
       "      <td>751890.750000</td>\n",
       "      <td>123.000000</td>\n",
       "      <td>14.900000</td>\n",
       "      <td>12.900000</td>\n",
       "      <td>18.000000</td>\n",
       "      <td>0.110000</td>\n",
       "      <td>0.110000</td>\n",
       "      <td>-0.020000</td>\n",
       "      <td>-5.000000</td>\n",
       "      <td>...</td>\n",
       "      <td>41.000000</td>\n",
       "      <td>0.560000</td>\n",
       "      <td>1.620000</td>\n",
       "      <td>0.490000</td>\n",
       "      <td>76.000000</td>\n",
       "      <td>312.000000</td>\n",
       "      <td>26.000000</td>\n",
       "      <td>-73.000000</td>\n",
       "      <td>737.000000</td>\n",
       "      <td>653.000000</td>\n",
       "    </tr>\n",
       "    <tr>\n",
       "      <th>max</th>\n",
       "      <td>1.323095e+09</td>\n",
       "      <td>998801.000000</td>\n",
       "      <td>162.000000</td>\n",
       "      <td>60.300000</td>\n",
       "      <td>179.000000</td>\n",
       "      <td>29.000000</td>\n",
       "      <td>2.220000</td>\n",
       "      <td>0.640000</td>\n",
       "      <td>1.620000</td>\n",
       "      <td>85.000000</td>\n",
       "      <td>...</td>\n",
       "      <td>108.000000</td>\n",
       "      <td>3.970000</td>\n",
       "      <td>311.000000</td>\n",
       "      <td>231.000000</td>\n",
       "      <td>477.000000</td>\n",
       "      <td>923.000000</td>\n",
       "      <td>291.000000</td>\n",
       "      <td>672.000000</td>\n",
       "      <td>1480.000000</td>\n",
       "      <td>1090.000000</td>\n",
       "    </tr>\n",
       "  </tbody>\n",
       "</table>\n",
       "<p>8 rows × 54 columns</p>\n",
       "</div>"
      ],
      "text/plain": [
       "       raw_timestamp_part_1  raw_timestamp_part_2     roll_belt    pitch_belt  \\\n",
       "count          1.962200e+04          19622.000000  19622.000000  19622.000000   \n",
       "mean           1.322827e+09         500656.144277     64.407197      0.305283   \n",
       "std            2.049277e+05         288222.879958     62.750255     22.351242   \n",
       "min            1.322490e+09            294.000000    -28.900000    -55.800000   \n",
       "25%            1.322673e+09         252912.250000      1.100000      1.760000   \n",
       "50%            1.322833e+09         496380.000000    113.000000      5.280000   \n",
       "75%            1.323084e+09         751890.750000    123.000000     14.900000   \n",
       "max            1.323095e+09         998801.000000    162.000000     60.300000   \n",
       "\n",
       "           yaw_belt  total_accel_belt  gyros_belt_x  gyros_belt_y  \\\n",
       "count  19622.000000      19622.000000  19622.000000  19622.000000   \n",
       "mean     -11.205061         11.312608     -0.005592      0.039588   \n",
       "std       95.193926          7.742309      0.207329      0.078236   \n",
       "min     -180.000000          0.000000     -1.040000     -0.640000   \n",
       "25%      -88.300000          3.000000     -0.030000      0.000000   \n",
       "50%      -13.000000         17.000000      0.030000      0.020000   \n",
       "75%       12.900000         18.000000      0.110000      0.110000   \n",
       "max      179.000000         29.000000      2.220000      0.640000   \n",
       "\n",
       "       gyros_belt_z  accel_belt_x  ...  total_accel_forearm  gyros_forearm_x  \\\n",
       "count  19622.000000  19622.000000  ...         19622.000000     19622.000000   \n",
       "mean      -0.130538     -5.594690  ...            34.715320         0.157951   \n",
       "std        0.241321     29.644785  ...            10.055956         0.648618   \n",
       "min       -1.460000   -120.000000  ...             0.000000       -22.000000   \n",
       "25%       -0.200000    -21.000000  ...            29.000000        -0.220000   \n",
       "50%       -0.100000    -15.000000  ...            36.000000         0.050000   \n",
       "75%       -0.020000     -5.000000  ...            41.000000         0.560000   \n",
       "max        1.620000     85.000000  ...           108.000000         3.970000   \n",
       "\n",
       "       gyros_forearm_y  gyros_forearm_z  accel_forearm_x  accel_forearm_y  \\\n",
       "count     19622.000000     19622.000000     19622.000000     19622.000000   \n",
       "mean          0.075175         0.151245       -61.651819       163.655896   \n",
       "std           3.100725         1.754483       180.593687       200.130082   \n",
       "min          -7.020000        -8.090000      -498.000000      -632.000000   \n",
       "25%          -1.460000        -0.180000      -178.000000        57.000000   \n",
       "50%           0.030000         0.080000       -57.000000       201.000000   \n",
       "75%           1.620000         0.490000        76.000000       312.000000   \n",
       "max         311.000000       231.000000       477.000000       923.000000   \n",
       "\n",
       "       accel_forearm_z  magnet_forearm_x  magnet_forearm_y  magnet_forearm_z  \n",
       "count     19622.000000      19622.000000      19622.000000      19622.000000  \n",
       "mean        -55.291917       -312.575884        380.116445        393.613745  \n",
       "std         138.396947        346.958482        509.373742        369.268747  \n",
       "min        -446.000000      -1280.000000       -896.000000       -973.000000  \n",
       "25%        -182.000000       -616.000000          2.000000        191.000000  \n",
       "50%         -39.000000       -378.000000        591.000000        511.000000  \n",
       "75%          26.000000        -73.000000        737.000000        653.000000  \n",
       "max         291.000000        672.000000       1480.000000       1090.000000  \n",
       "\n",
       "[8 rows x 54 columns]"
      ]
     },
     "execution_count": 9,
     "metadata": {},
     "output_type": "execute_result"
    }
   ],
   "source": [
    "df2=df2.drop(['user_name', 'cvtd_timestamp'], axis=1)\n",
    "df2.describe()"
   ]
  },
  {
   "cell_type": "code",
   "execution_count": 10,
   "metadata": {},
   "outputs": [
    {
     "name": "stdout",
     "output_type": "stream",
     "text": [
      "<class 'pandas.core.frame.DataFrame'>\n",
      "RangeIndex: 19622 entries, 0 to 19621\n",
      "Data columns (total 55 columns):\n",
      "raw_timestamp_part_1    19622 non-null int64\n",
      "raw_timestamp_part_2    19622 non-null int64\n",
      "roll_belt               19622 non-null float64\n",
      "pitch_belt              19622 non-null float64\n",
      "yaw_belt                19622 non-null float64\n",
      "total_accel_belt        19622 non-null int64\n",
      "gyros_belt_x            19622 non-null float64\n",
      "gyros_belt_y            19622 non-null float64\n",
      "gyros_belt_z            19622 non-null float64\n",
      "accel_belt_x            19622 non-null int64\n",
      "accel_belt_y            19622 non-null int64\n",
      "accel_belt_z            19622 non-null int64\n",
      "magnet_belt_x           19622 non-null int64\n",
      "magnet_belt_y           19622 non-null int64\n",
      "magnet_belt_z           19622 non-null int64\n",
      "roll_arm                19622 non-null float64\n",
      "pitch_arm               19622 non-null float64\n",
      "yaw_arm                 19622 non-null float64\n",
      "total_accel_arm         19622 non-null int64\n",
      "gyros_arm_x             19622 non-null float64\n",
      "gyros_arm_y             19622 non-null float64\n",
      "gyros_arm_z             19622 non-null float64\n",
      "accel_arm_x             19622 non-null int64\n",
      "accel_arm_y             19622 non-null int64\n",
      "accel_arm_z             19622 non-null int64\n",
      "magnet_arm_x            19622 non-null int64\n",
      "magnet_arm_y            19622 non-null int64\n",
      "magnet_arm_z            19622 non-null int64\n",
      "roll_dumbbell           19622 non-null float64\n",
      "pitch_dumbbell          19622 non-null float64\n",
      "yaw_dumbbell            19622 non-null float64\n",
      "total_accel_dumbbell    19622 non-null int64\n",
      "gyros_dumbbell_x        19622 non-null float64\n",
      "gyros_dumbbell_y        19622 non-null float64\n",
      "gyros_dumbbell_z        19622 non-null float64\n",
      "accel_dumbbell_x        19622 non-null int64\n",
      "accel_dumbbell_y        19622 non-null int64\n",
      "accel_dumbbell_z        19622 non-null int64\n",
      "magnet_dumbbell_x       19622 non-null int64\n",
      "magnet_dumbbell_y       19622 non-null int64\n",
      "magnet_dumbbell_z       19622 non-null float64\n",
      "roll_forearm            19622 non-null float64\n",
      "pitch_forearm           19622 non-null float64\n",
      "yaw_forearm             19622 non-null float64\n",
      "total_accel_forearm     19622 non-null int64\n",
      "gyros_forearm_x         19622 non-null float64\n",
      "gyros_forearm_y         19622 non-null float64\n",
      "gyros_forearm_z         19622 non-null float64\n",
      "accel_forearm_x         19622 non-null int64\n",
      "accel_forearm_y         19622 non-null int64\n",
      "accel_forearm_z         19622 non-null int64\n",
      "magnet_forearm_x        19622 non-null int64\n",
      "magnet_forearm_y        19622 non-null float64\n",
      "magnet_forearm_z        19622 non-null float64\n",
      "classe                  19622 non-null object\n",
      "dtypes: float64(27), int64(27), object(1)\n",
      "memory usage: 8.2+ MB\n"
     ]
    }
   ],
   "source": [
    "df2.info()"
   ]
  },
  {
   "cell_type": "code",
   "execution_count": 11,
   "metadata": {},
   "outputs": [],
   "source": [
    "df2=pd.get_dummies(df2,columns=['classe'])"
   ]
  },
  {
   "cell_type": "code",
   "execution_count": 12,
   "metadata": {},
   "outputs": [],
   "source": [
    "df2=df2.drop(['classe_B', 'classe_C','classe_D','classe_E','raw_timestamp_part_1','raw_timestamp_part_2'], axis=1)"
   ]
  },
  {
   "cell_type": "code",
   "execution_count": 13,
   "metadata": {},
   "outputs": [
    {
     "data": {
      "text/html": [
       "<div>\n",
       "<style scoped>\n",
       "    .dataframe tbody tr th:only-of-type {\n",
       "        vertical-align: middle;\n",
       "    }\n",
       "\n",
       "    .dataframe tbody tr th {\n",
       "        vertical-align: top;\n",
       "    }\n",
       "\n",
       "    .dataframe thead th {\n",
       "        text-align: right;\n",
       "    }\n",
       "</style>\n",
       "<table border=\"1\" class=\"dataframe\">\n",
       "  <thead>\n",
       "    <tr style=\"text-align: right;\">\n",
       "      <th></th>\n",
       "      <th>roll_belt</th>\n",
       "      <th>pitch_belt</th>\n",
       "      <th>yaw_belt</th>\n",
       "      <th>total_accel_belt</th>\n",
       "      <th>gyros_belt_x</th>\n",
       "      <th>gyros_belt_y</th>\n",
       "      <th>gyros_belt_z</th>\n",
       "      <th>accel_belt_x</th>\n",
       "      <th>accel_belt_y</th>\n",
       "      <th>accel_belt_z</th>\n",
       "      <th>...</th>\n",
       "      <th>gyros_forearm_x</th>\n",
       "      <th>gyros_forearm_y</th>\n",
       "      <th>gyros_forearm_z</th>\n",
       "      <th>accel_forearm_x</th>\n",
       "      <th>accel_forearm_y</th>\n",
       "      <th>accel_forearm_z</th>\n",
       "      <th>magnet_forearm_x</th>\n",
       "      <th>magnet_forearm_y</th>\n",
       "      <th>magnet_forearm_z</th>\n",
       "      <th>classe_A</th>\n",
       "    </tr>\n",
       "  </thead>\n",
       "  <tbody>\n",
       "    <tr>\n",
       "      <th>0</th>\n",
       "      <td>1.41</td>\n",
       "      <td>8.07</td>\n",
       "      <td>-94.4</td>\n",
       "      <td>3</td>\n",
       "      <td>0.00</td>\n",
       "      <td>0.00</td>\n",
       "      <td>-0.02</td>\n",
       "      <td>-21</td>\n",
       "      <td>4</td>\n",
       "      <td>22</td>\n",
       "      <td>...</td>\n",
       "      <td>0.03</td>\n",
       "      <td>0.00</td>\n",
       "      <td>-0.02</td>\n",
       "      <td>192</td>\n",
       "      <td>203</td>\n",
       "      <td>-215</td>\n",
       "      <td>-17</td>\n",
       "      <td>654.0</td>\n",
       "      <td>476.0</td>\n",
       "      <td>1</td>\n",
       "    </tr>\n",
       "    <tr>\n",
       "      <th>1</th>\n",
       "      <td>1.41</td>\n",
       "      <td>8.07</td>\n",
       "      <td>-94.4</td>\n",
       "      <td>3</td>\n",
       "      <td>0.02</td>\n",
       "      <td>0.00</td>\n",
       "      <td>-0.02</td>\n",
       "      <td>-22</td>\n",
       "      <td>4</td>\n",
       "      <td>22</td>\n",
       "      <td>...</td>\n",
       "      <td>0.02</td>\n",
       "      <td>0.00</td>\n",
       "      <td>-0.02</td>\n",
       "      <td>192</td>\n",
       "      <td>203</td>\n",
       "      <td>-216</td>\n",
       "      <td>-18</td>\n",
       "      <td>661.0</td>\n",
       "      <td>473.0</td>\n",
       "      <td>1</td>\n",
       "    </tr>\n",
       "    <tr>\n",
       "      <th>2</th>\n",
       "      <td>1.42</td>\n",
       "      <td>8.07</td>\n",
       "      <td>-94.4</td>\n",
       "      <td>3</td>\n",
       "      <td>0.00</td>\n",
       "      <td>0.00</td>\n",
       "      <td>-0.02</td>\n",
       "      <td>-20</td>\n",
       "      <td>5</td>\n",
       "      <td>23</td>\n",
       "      <td>...</td>\n",
       "      <td>0.03</td>\n",
       "      <td>-0.02</td>\n",
       "      <td>0.00</td>\n",
       "      <td>196</td>\n",
       "      <td>204</td>\n",
       "      <td>-213</td>\n",
       "      <td>-18</td>\n",
       "      <td>658.0</td>\n",
       "      <td>469.0</td>\n",
       "      <td>1</td>\n",
       "    </tr>\n",
       "    <tr>\n",
       "      <th>3</th>\n",
       "      <td>1.48</td>\n",
       "      <td>8.05</td>\n",
       "      <td>-94.4</td>\n",
       "      <td>3</td>\n",
       "      <td>0.02</td>\n",
       "      <td>0.00</td>\n",
       "      <td>-0.03</td>\n",
       "      <td>-22</td>\n",
       "      <td>3</td>\n",
       "      <td>21</td>\n",
       "      <td>...</td>\n",
       "      <td>0.02</td>\n",
       "      <td>-0.02</td>\n",
       "      <td>0.00</td>\n",
       "      <td>189</td>\n",
       "      <td>206</td>\n",
       "      <td>-214</td>\n",
       "      <td>-16</td>\n",
       "      <td>658.0</td>\n",
       "      <td>469.0</td>\n",
       "      <td>1</td>\n",
       "    </tr>\n",
       "    <tr>\n",
       "      <th>4</th>\n",
       "      <td>1.48</td>\n",
       "      <td>8.07</td>\n",
       "      <td>-94.4</td>\n",
       "      <td>3</td>\n",
       "      <td>0.02</td>\n",
       "      <td>0.02</td>\n",
       "      <td>-0.02</td>\n",
       "      <td>-21</td>\n",
       "      <td>2</td>\n",
       "      <td>24</td>\n",
       "      <td>...</td>\n",
       "      <td>0.02</td>\n",
       "      <td>0.00</td>\n",
       "      <td>-0.02</td>\n",
       "      <td>189</td>\n",
       "      <td>206</td>\n",
       "      <td>-214</td>\n",
       "      <td>-17</td>\n",
       "      <td>655.0</td>\n",
       "      <td>473.0</td>\n",
       "      <td>1</td>\n",
       "    </tr>\n",
       "  </tbody>\n",
       "</table>\n",
       "<p>5 rows × 53 columns</p>\n",
       "</div>"
      ],
      "text/plain": [
       "   roll_belt  pitch_belt  yaw_belt  total_accel_belt  gyros_belt_x  \\\n",
       "0       1.41        8.07     -94.4                 3          0.00   \n",
       "1       1.41        8.07     -94.4                 3          0.02   \n",
       "2       1.42        8.07     -94.4                 3          0.00   \n",
       "3       1.48        8.05     -94.4                 3          0.02   \n",
       "4       1.48        8.07     -94.4                 3          0.02   \n",
       "\n",
       "   gyros_belt_y  gyros_belt_z  accel_belt_x  accel_belt_y  accel_belt_z  ...  \\\n",
       "0          0.00         -0.02           -21             4            22  ...   \n",
       "1          0.00         -0.02           -22             4            22  ...   \n",
       "2          0.00         -0.02           -20             5            23  ...   \n",
       "3          0.00         -0.03           -22             3            21  ...   \n",
       "4          0.02         -0.02           -21             2            24  ...   \n",
       "\n",
       "   gyros_forearm_x  gyros_forearm_y  gyros_forearm_z  accel_forearm_x  \\\n",
       "0             0.03             0.00            -0.02              192   \n",
       "1             0.02             0.00            -0.02              192   \n",
       "2             0.03            -0.02             0.00              196   \n",
       "3             0.02            -0.02             0.00              189   \n",
       "4             0.02             0.00            -0.02              189   \n",
       "\n",
       "   accel_forearm_y  accel_forearm_z  magnet_forearm_x  magnet_forearm_y  \\\n",
       "0              203             -215               -17             654.0   \n",
       "1              203             -216               -18             661.0   \n",
       "2              204             -213               -18             658.0   \n",
       "3              206             -214               -16             658.0   \n",
       "4              206             -214               -17             655.0   \n",
       "\n",
       "   magnet_forearm_z  classe_A  \n",
       "0             476.0         1  \n",
       "1             473.0         1  \n",
       "2             469.0         1  \n",
       "3             469.0         1  \n",
       "4             473.0         1  \n",
       "\n",
       "[5 rows x 53 columns]"
      ]
     },
     "execution_count": 13,
     "metadata": {},
     "output_type": "execute_result"
    }
   ],
   "source": [
    "df2.head()"
   ]
  },
  {
   "cell_type": "code",
   "execution_count": 14,
   "metadata": {},
   "outputs": [
    {
     "data": {
      "image/png": "[encoded data removed]",
      "text/plain": [
       "<Figure size 2160x1440 with 2 Axes>"
      ]
     },
     "metadata": {
      "needs_background": "light"
     },
     "output_type": "display_data"
    }
   ],
   "source": [
    "matriz = df2.corr()\n",
    "f, ax = plt.subplots(figsize=(30, 20))\n",
    "sns.heatmap(matriz, vmax=.8, square=True);"
   ]
  },
  {
   "cell_type": "code",
   "execution_count": 15,
   "metadata": {},
   "outputs": [],
   "source": [
    "## Analizamos la correlación de las variables críticas para ver si eliminamos una y evitamos redundancia de datos##"
   ]
  },
  {
   "cell_type": "code",
   "execution_count": 16,
   "metadata": {},
   "outputs": [
    {
     "name": "stdout",
     "output_type": "stream",
     "text": [
      "Coeficiente de correlación de Pearson: 0.762\n",
      "Las variables no tienen correlación lineal. No es necesario eliminar ninguna\n"
     ]
    }
   ],
   "source": [
    "#Correlación Pearson\n",
    "# (yaw_belt)-(total_accel_belt)\n",
    "p = df2.corr(method=\"pearson\")[\"yaw_belt\"][\"total_accel_belt\"]\n",
    "print('Coeficiente de correlación de Pearson: %.3f' % p)\n",
    "if p >=0.9:\n",
    "    print('Las variables tienen correlación lineal, hay redundancia de datos. Eliminamos una')\n",
    "else:\n",
    "    print('Las variables no tienen correlación lineal. No es necesario eliminar ninguna')"
   ]
  },
  {
   "cell_type": "code",
   "execution_count": 17,
   "metadata": {},
   "outputs": [
    {
     "name": "stdout",
     "output_type": "stream",
     "text": [
      "Coeficiente de correlación de Spearman: 0.750\n",
      "Las variables no tienen correlación lineal. No es necesario eliminar ninguna\n"
     ]
    }
   ],
   "source": [
    "#Correlación Spearman\n",
    "# (yaw_belt)-(total_accel_belt)\n",
    "s = df2.corr(method=\"spearman\")[\"yaw_belt\"][\"total_accel_belt\"]\n",
    "print('Coeficiente de correlación de Spearman: %.3f' % s)\n",
    "if s >=0.9:\n",
    "    print('Las variables tienen correlación lineal, hay redundancia de datos. Eliminamos una')\n",
    "else:\n",
    "    print('Las variables no tienen correlación lineal. No es necesario eliminar ninguna')"
   ]
  },
  {
   "cell_type": "code",
   "execution_count": 18,
   "metadata": {},
   "outputs": [
    {
     "name": "stdout",
     "output_type": "stream",
     "text": [
      "Coeficiente de correlación de Pearson: 0.779\n",
      "Las variables no tienen correlación lineal. No es necesario eliminar ninguna\n"
     ]
    }
   ],
   "source": [
    "#Correlación Pearson\n",
    "# (magnet_belt_y)-(magnet_belt_z)\n",
    "p = df2.corr(method=\"pearson\")[\"magnet_belt_y\"][\"magnet_belt_z\"]\n",
    "print('Coeficiente de correlación de Pearson: %.3f' % p)\n",
    "if p >=0.9:\n",
    "    print('Las variables tienen correlación lineal, hay redundancia de datos. Eliminamos una')\n",
    "else:\n",
    "    print('Las variables no tienen correlación lineal. No es necesario eliminar ninguna')"
   ]
  },
  {
   "cell_type": "code",
   "execution_count": 19,
   "metadata": {},
   "outputs": [
    {
     "name": "stdout",
     "output_type": "stream",
     "text": [
      "Coeficiente de correlación de Spearman: 0.847\n",
      "Las variables no tienen correlación lineal. No es necesario eliminar ninguna\n"
     ]
    }
   ],
   "source": [
    "#Correlación Spearman\n",
    "# (magnet_belt_y)-(magnet_belt_z)\n",
    "s = df2.corr(method=\"spearman\")[\"magnet_belt_y\"][\"magnet_belt_z\"]\n",
    "print('Coeficiente de correlación de Spearman: %.3f' % s)\n",
    "if s >=0.9:\n",
    "    print('Las variables tienen correlación lineal, hay redundancia de datos. Eliminamos una')\n",
    "else:\n",
    "    print('Las variables no tienen correlación lineal. No es necesario eliminar ninguna')"
   ]
  },
  {
   "cell_type": "code",
   "execution_count": 20,
   "metadata": {},
   "outputs": [
    {
     "name": "stdout",
     "output_type": "stream",
     "text": [
      "Coeficiente de correlación de Pearson: 0.814\n",
      "Las variables no tienen correlación lineal. No es necesario eliminar ninguna\n"
     ]
    }
   ],
   "source": [
    "#Correlación Pearson\n",
    "# (magnet_arm_y)-(magnet_arm_z)\n",
    "p = df2.corr(method=\"pearson\")[\"magnet_arm_y\"][\"magnet_arm_z\"]\n",
    "print('Coeficiente de correlación de Pearson: %.3f' % p)\n",
    "if p >=0.9:\n",
    "    print('Las variables tienen correlación lineal, hay redundancia de datos. Eliminamos una')\n",
    "else:\n",
    "    print('Las variables no tienen correlación lineal. No es necesario eliminar ninguna')"
   ]
  },
  {
   "cell_type": "code",
   "execution_count": 21,
   "metadata": {},
   "outputs": [
    {
     "name": "stdout",
     "output_type": "stream",
     "text": [
      "Coeficiente de correlación de Spearman: 0.632\n",
      "Las variables no tienen correlación lineal. No es necesario eliminar ninguna\n"
     ]
    }
   ],
   "source": [
    "#Correlación Spearman\n",
    "# (magnet_arm_y)-(magnet_arm_z)\n",
    "s = df2.corr(method=\"spearman\")[\"magnet_arm_y\"][\"magnet_arm_z\"]\n",
    "print('Coeficiente de correlación de Spearman: %.3f' % s)\n",
    "if s >=0.9:\n",
    "    print('Las variables tienen correlación lineal, hay redundancia de datos. Eliminamos una')\n",
    "else:\n",
    "    print('Las variables no tienen correlación lineal. No es necesario eliminar ninguna')"
   ]
  },
  {
   "cell_type": "code",
   "execution_count": 22,
   "metadata": {},
   "outputs": [
    {
     "name": "stdout",
     "output_type": "stream",
     "text": [
      "Coeficiente de correlación de Pearson: 0.846\n",
      "Las variables no tienen correlación lineal. No es necesario eliminar ninguna\n"
     ]
    }
   ],
   "source": [
    "#Correlación Pearson\n",
    "# (gyros_forearm_y)-(gyros_forearm_z)\n",
    "p = df2.corr(method=\"pearson\")[\"gyros_forearm_y\"][\"gyros_forearm_z\"]\n",
    "print('Coeficiente de correlación de Pearson: %.3f' % p)\n",
    "if p >=0.9:\n",
    "    print('Las variables tienen correlación lineal, hay redundancia de datos. Eliminamos una')\n",
    "else:\n",
    "    print('Las variables no tienen correlación lineal. No es necesario eliminar ninguna')"
   ]
  },
  {
   "cell_type": "code",
   "execution_count": 23,
   "metadata": {},
   "outputs": [
    {
     "name": "stdout",
     "output_type": "stream",
     "text": [
      "Coeficiente de correlación de Spearman: 0.739\n",
      "Las variables no tienen correlación lineal. No es necesario eliminar ninguna\n"
     ]
    }
   ],
   "source": [
    "#Correlación Spearman\n",
    "# (gyros_forearm_y)-(gyros_forearm_z)\n",
    "s = df2.corr(method=\"spearman\")[\"gyros_forearm_y\"][\"gyros_forearm_z\"]\n",
    "print('Coeficiente de correlación de Spearman: %.3f' % s)\n",
    "if s >=0.9:\n",
    "    print('Las variables tienen correlación lineal, hay redundancia de datos. Eliminamos una')\n",
    "else:\n",
    "    print('Las variables no tienen correlación lineal. No es necesario eliminar ninguna')"
   ]
  },
  {
   "cell_type": "markdown",
   "metadata": {},
   "source": [
    "# Modelos "
   ]
  },
  {
   "cell_type": "markdown",
   "metadata": {},
   "source": [
    "### K Nearest Neighbors"
   ]
  },
  {
   "cell_type": "code",
   "execution_count": 24,
   "metadata": {},
   "outputs": [],
   "source": [
    "#Selección datos de entrenamiento y datos de prueba"
   ]
  },
  {
   "cell_type": "code",
   "execution_count": 25,
   "metadata": {},
   "outputs": [],
   "source": [
    "from sklearn.model_selection import train_test_split\n",
    "\n",
    "X_train, X_test, y_train, y_test=train_test_split(df2.drop([\"classe_A\"], axis=1), df2[\"classe_A\"], test_size=0.3, random_state=1)"
   ]
  },
  {
   "cell_type": "code",
   "execution_count": 26,
   "metadata": {},
   "outputs": [],
   "source": [
    "#Calculamos el K óptimo"
   ]
  },
  {
   "cell_type": "code",
   "execution_count": 27,
   "metadata": {},
   "outputs": [
    {
     "data": {
      "image/png": "[encoded data removed]",
      "text/plain": [
       "<Figure size 432x288 with 1 Axes>"
      ]
     },
     "metadata": {
      "needs_background": "light"
     },
     "output_type": "display_data"
    }
   ],
   "source": [
    "from sklearn.cluster import KMeans\n",
    "Nc = range(1, 20)\n",
    "kmeans = [KMeans(n_clusters=i) for i in Nc]\n",
    "kmeans\n",
    "score = [kmeans[i].fit(X_train).score(X_train) for i in range(len(kmeans))]\n",
    "score\n",
    "plt.plot(Nc,score)\n",
    "plt.xlabel('Number of Clusters')\n",
    "plt.ylabel('Score')\n",
    "plt.title('Elbow Curve')\n",
    "plt.show()"
   ]
  },
  {
   "cell_type": "code",
   "execution_count": 28,
   "metadata": {},
   "outputs": [
    {
     "data": {
      "text/plain": [
       "KNeighborsClassifier(algorithm='auto', leaf_size=30, metric='minkowski',\n",
       "           metric_params=None, n_jobs=None, n_neighbors=5, p=2,\n",
       "           weights='uniform')"
      ]
     },
     "execution_count": 28,
     "metadata": {},
     "output_type": "execute_result"
    }
   ],
   "source": [
    "#Importamos el modelo\n",
    "from sklearn.neighbors import KNeighborsClassifier\n",
    "\n",
    "knn=KNeighborsClassifier(n_neighbors=5)\n",
    "knn.fit(X_train, y_train)"
   ]
  },
  {
   "cell_type": "code",
   "execution_count": 29,
   "metadata": {},
   "outputs": [
    {
     "name": "stdout",
     "output_type": "stream",
     "text": [
      "              precision    recall  f1-score   support\n",
      "\n",
      "           0       0.98      0.98      0.98      4176\n",
      "           1       0.96      0.95      0.95      1711\n",
      "\n",
      "   micro avg       0.97      0.97      0.97      5887\n",
      "   macro avg       0.97      0.97      0.97      5887\n",
      "weighted avg       0.97      0.97      0.97      5887\n",
      "\n"
     ]
    }
   ],
   "source": [
    "#Aplicamos el modelo\n",
    "from sklearn.metrics import classification_report\n",
    "\n",
    "y_pred_knn=knn.predict(X_test)\n",
    "\n",
    "print(classification_report(y_test, y_pred_knn))"
   ]
  },
  {
   "cell_type": "code",
   "execution_count": 30,
   "metadata": {},
   "outputs": [
    {
     "name": "stdout",
     "output_type": "stream",
     "text": [
      "La matriz de confusión es: \n",
      "[[4100   76]\n",
      " [  86 1625]]\n"
     ]
    }
   ],
   "source": [
    "#Matríz de confusión\n",
    "from sklearn.metrics import confusion_matrix\n",
    "\n",
    "matriz=confusion_matrix(y_test, y_pred_knn)\n",
    "print('La matriz de confusión es: ')\n",
    "print(matriz)"
   ]
  },
  {
   "cell_type": "code",
   "execution_count": 31,
   "metadata": {},
   "outputs": [
    {
     "name": "stdout",
     "output_type": "stream",
     "text": [
      "La precisión del modelo es:  0.9553203997648442\n"
     ]
    }
   ],
   "source": [
    "#precision\n",
    "from sklearn.metrics import precision_score\n",
    "\n",
    "precision_knn=precision_score(y_test, y_pred_knn)\n",
    "print('La precisión del modelo es: ', precision_knn)"
   ]
  },
  {
   "cell_type": "markdown",
   "metadata": {},
   "source": [
    "### Gaussian Naive Bayes"
   ]
  },
  {
   "cell_type": "code",
   "execution_count": 32,
   "metadata": {},
   "outputs": [
    {
     "data": {
      "text/plain": [
       "GaussianNB(priors=None, var_smoothing=1e-09)"
      ]
     },
     "execution_count": 32,
     "metadata": {},
     "output_type": "execute_result"
    }
   ],
   "source": [
    "#Importamos el modelo\n",
    "from sklearn.naive_bayes import GaussianNB\n",
    "\n",
    "NB=GaussianNB()\n",
    "NB.fit(X_train, y_train)"
   ]
  },
  {
   "cell_type": "code",
   "execution_count": 33,
   "metadata": {},
   "outputs": [
    {
     "name": "stdout",
     "output_type": "stream",
     "text": [
      "              precision    recall  f1-score   support\n",
      "\n",
      "           0       0.79      0.96      0.87      4176\n",
      "           1       0.80      0.39      0.52      1711\n",
      "\n",
      "   micro avg       0.79      0.79      0.79      5887\n",
      "   macro avg       0.80      0.67      0.70      5887\n",
      "weighted avg       0.80      0.79      0.77      5887\n",
      "\n"
     ]
    }
   ],
   "source": [
    "#Aplicamos el modelo\n",
    "from sklearn.metrics import classification_report\n",
    "\n",
    "y_pred_nb=NB.predict(X_test)\n",
    "\n",
    "print(classification_report(y_test, y_pred_nb))"
   ]
  },
  {
   "cell_type": "code",
   "execution_count": 34,
   "metadata": {},
   "outputs": [
    {
     "name": "stdout",
     "output_type": "stream",
     "text": [
      "La matriz de confusión es: \n",
      "[[4012  164]\n",
      " [1048  663]]\n"
     ]
    }
   ],
   "source": [
    "#Matríz de confusión\n",
    "from sklearn.metrics import confusion_matrix\n",
    "\n",
    "matriz=confusion_matrix(y_test, y_pred_nb)\n",
    "print('La matriz de confusión es: ')\n",
    "print(matriz)"
   ]
  },
  {
   "cell_type": "code",
   "execution_count": 35,
   "metadata": {},
   "outputs": [
    {
     "name": "stdout",
     "output_type": "stream",
     "text": [
      "La precisión del modelo es:  0.8016928657799275\n"
     ]
    }
   ],
   "source": [
    "#precision\n",
    "from sklearn.metrics import precision_score\n",
    "\n",
    "precision_nb=precision_score(y_test, y_pred_nb)\n",
    "print('La precisión del modelo es: ', precision_nb)"
   ]
  },
  {
   "cell_type": "markdown",
   "metadata": {},
   "source": [
    "### Decission Tree"
   ]
  },
  {
   "cell_type": "code",
   "execution_count": 36,
   "metadata": {},
   "outputs": [
    {
     "data": {
      "text/plain": [
       "DecisionTreeClassifier(class_weight=None, criterion='entropy', max_depth=None,\n",
       "            max_features=None, max_leaf_nodes=None,\n",
       "            min_impurity_decrease=0.0, min_impurity_split=None,\n",
       "            min_samples_leaf=1, min_samples_split=2,\n",
       "            min_weight_fraction_leaf=0.0, presort=False, random_state=None,\n",
       "            splitter='best')"
      ]
     },
     "execution_count": 36,
     "metadata": {},
     "output_type": "execute_result"
    }
   ],
   "source": [
    "#Importamos el modelo\n",
    "from sklearn.tree import DecisionTreeClassifier\n",
    "\n",
    "dt=DecisionTreeClassifier(criterion='entropy')\n",
    "dt.fit(X_train, y_train)"
   ]
  },
  {
   "cell_type": "code",
   "execution_count": 37,
   "metadata": {},
   "outputs": [
    {
     "name": "stdout",
     "output_type": "stream",
     "text": [
      "              precision    recall  f1-score   support\n",
      "\n",
      "           0       0.99      1.00      1.00      4176\n",
      "           1       0.99      0.99      0.99      1711\n",
      "\n",
      "   micro avg       0.99      0.99      0.99      5887\n",
      "   macro avg       0.99      0.99      0.99      5887\n",
      "weighted avg       0.99      0.99      0.99      5887\n",
      "\n"
     ]
    }
   ],
   "source": [
    "#Aplicamos el modelo\n",
    "from sklearn.metrics import classification_report\n",
    "\n",
    "y_pred_dt=dt.predict(X_test)\n",
    "\n",
    "print(classification_report(y_test, y_pred_dt))"
   ]
  },
  {
   "cell_type": "code",
   "execution_count": 38,
   "metadata": {},
   "outputs": [
    {
     "name": "stdout",
     "output_type": "stream",
     "text": [
      "La matriz de confusión es: \n",
      "[[4161   15]\n",
      " [  22 1689]]\n"
     ]
    }
   ],
   "source": [
    "#Matríz de confusión\n",
    "from sklearn.metrics import confusion_matrix\n",
    "\n",
    "matriz=confusion_matrix(y_test, y_pred_dt)\n",
    "print('La matriz de confusión es: ')\n",
    "print(matriz)"
   ]
  },
  {
   "cell_type": "code",
   "execution_count": 39,
   "metadata": {},
   "outputs": [
    {
     "name": "stdout",
     "output_type": "stream",
     "text": [
      "La precisión del modelo es:  0.9911971830985915\n"
     ]
    }
   ],
   "source": [
    "#precision\n",
    "from sklearn.metrics import precision_score\n",
    "\n",
    "precision_dt=precision_score(y_test, y_pred_dt)\n",
    "print('La precisión del modelo es: ', precision_dt)"
   ]
  },
  {
   "cell_type": "markdown",
   "metadata": {},
   "source": [
    "### Random Forest"
   ]
  },
  {
   "cell_type": "code",
   "execution_count": 40,
   "metadata": {},
   "outputs": [
    {
     "data": {
      "text/plain": [
       "RandomForestClassifier(bootstrap=True, class_weight=None, criterion='entropy',\n",
       "            max_depth=None, max_features='auto', max_leaf_nodes=None,\n",
       "            min_impurity_decrease=0.0, min_impurity_split=None,\n",
       "            min_samples_leaf=1, min_samples_split=2,\n",
       "            min_weight_fraction_leaf=0.0, n_estimators=10, n_jobs=None,\n",
       "            oob_score=False, random_state=None, verbose=0,\n",
       "            warm_start=False)"
      ]
     },
     "execution_count": 40,
     "metadata": {},
     "output_type": "execute_result"
    }
   ],
   "source": [
    "#Importamos el modelo\n",
    "from sklearn.ensemble import RandomForestClassifier\n",
    "\n",
    "rf=RandomForestClassifier(n_estimators=10, criterion='entropy')\n",
    "rf.fit(X_train, y_train)"
   ]
  },
  {
   "cell_type": "code",
   "execution_count": 41,
   "metadata": {},
   "outputs": [
    {
     "name": "stdout",
     "output_type": "stream",
     "text": [
      "              precision    recall  f1-score   support\n",
      "\n",
      "           0       0.99      1.00      1.00      4176\n",
      "           1       1.00      0.99      0.99      1711\n",
      "\n",
      "   micro avg       1.00      1.00      1.00      5887\n",
      "   macro avg       1.00      0.99      1.00      5887\n",
      "weighted avg       1.00      1.00      1.00      5887\n",
      "\n"
     ]
    }
   ],
   "source": [
    "#Aplicamos el modelo\n",
    "from sklearn.metrics import classification_report\n",
    "\n",
    "y_pred_rf=rf.predict(X_test)\n",
    "\n",
    "print(classification_report(y_test, y_pred_rf))"
   ]
  },
  {
   "cell_type": "code",
   "execution_count": 42,
   "metadata": {},
   "outputs": [
    {
     "name": "stdout",
     "output_type": "stream",
     "text": [
      "La matriz de confusión es: \n",
      "[[4173    3]\n",
      " [  21 1690]]\n"
     ]
    }
   ],
   "source": [
    "#Matríz de confusión\n",
    "from sklearn.metrics import confusion_matrix\n",
    "\n",
    "matriz=confusion_matrix(y_test, y_pred_rf)\n",
    "print('La matriz de confusión es: ')\n",
    "print(matriz)"
   ]
  },
  {
   "cell_type": "code",
   "execution_count": 43,
   "metadata": {},
   "outputs": [
    {
     "name": "stdout",
     "output_type": "stream",
     "text": [
      "La precisión del modelo es:  0.9982279976373302\n"
     ]
    }
   ],
   "source": [
    "#precision\n",
    "from sklearn.metrics import precision_score\n",
    "\n",
    "precision_rf=precision_score(y_test, y_pred_rf)\n",
    "print('La precisión del modelo es: ', precision_rf)"
   ]
  },
  {
   "cell_type": "markdown",
   "metadata": {},
   "source": [
    "# ¿Qué modelo elegimos?"
   ]
  },
  {
   "cell_type": "code",
   "execution_count": 44,
   "metadata": {},
   "outputs": [],
   "source": [
    "precisiones= {\"KNNeighbors\":precision_knn,\n",
    "              \"Gaussian Naive Bayes\":precision_nb, \n",
    "              \"Decission Tree\":precision_dt, \n",
    "              \"Random Forest\":precision_rf}"
   ]
  },
  {
   "cell_type": "code",
   "execution_count": 45,
   "metadata": {},
   "outputs": [
    {
     "name": "stdout",
     "output_type": "stream",
     "text": [
      "El modelo que presenta una mayor precisión es:  Random Forest\n"
     ]
    }
   ],
   "source": [
    "print('El modelo que presenta una mayor precisión es: ',max(precisiones))\n"
   ]
  }
 ],
 "metadata": {
  "kernelspec": {
   "display_name": "Python 3",
   "language": "python",
   "name": "python3"
  },
  "language_info": {
   "codemirror_mode": {
    "name": "ipython",
    "version": 3
   },
   "file_extension": ".py",
   "mimetype": "text/x-python",
   "name": "python",
   "nbconvert_exporter": "python",
   "pygments_lexer": "ipython3",
   "version": "3.7.6"
  }
 },
 "nbformat": 4,
 "nbformat_minor": 2
}
